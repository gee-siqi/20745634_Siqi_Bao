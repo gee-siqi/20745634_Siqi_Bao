{
  "cells": [
    {
      "cell_type": "markdown",
      "metadata": {
        "id": "view-in-github",
        "colab_type": "text"
      },
      "source": [
        "<a href=\"https://colab.research.google.com/github/gee-siqi/20745634_Siqi_Bao/blob/main/Assignment_beta.ipynb\" target=\"_parent\"><img src=\"https://colab.research.google.com/assets/colab-badge.svg\" alt=\"Open In Colab\"/></a>"
      ]
    },
    {
      "cell_type": "markdown",
      "metadata": {
        "id": "QYosYHjskVXH"
      },
      "source": [
        "# Assignment"
      ],
      "id": "QYosYHjskVXH"
    },
    {
      "cell_type": "code",
      "source": [
        "from google.colab import drive\n",
        "drive.mount('/content/drive')"
      ],
      "metadata": {
        "colab": {
          "base_uri": "https://localhost:8080/"
        },
        "id": "5nbmpXPYkpUs",
        "outputId": "93d71e12-72d6-4a0e-e2e1-e3e411389122"
      },
      "id": "5nbmpXPYkpUs",
      "execution_count": null,
      "outputs": [
        {
          "output_type": "stream",
          "name": "stdout",
          "text": [
            "Mounted at /content/drive\n"
          ]
        }
      ]
    },
    {
      "cell_type": "code",
      "source": [
        "import os\n",
        "os.chdir('/content/drive/My Drive/Colab Notebooks/irl')"
      ],
      "metadata": {
        "id": "76AtFZNCkpgF"
      },
      "id": "76AtFZNCkpgF",
      "execution_count": null,
      "outputs": []
    },
    {
      "cell_type": "markdown",
      "source": [
        ""
      ],
      "metadata": {
        "id": "jg_HSjZcDw-0"
      },
      "id": "jg_HSjZcDw-0"
    },
    {
      "cell_type": "code",
      "execution_count": null,
      "metadata": {
        "id": "Hk624_s0kVXM"
      },
      "outputs": [],
      "source": [
        "# Import \n",
        "\n",
        "import numpy as np\n",
        "import matplotlib.pyplot as plt\n",
        "from degree_freedom_queen import *\n",
        "from degree_freedom_king1 import *\n",
        "from degree_freedom_king2 import *\n",
        "from generate_game import *\n",
        "from Chess_env import *\n",
        "from tqdm import tqdm\n",
        "import time\n",
        "\n",
        "size_board = 4\n",
        "\n"
      ],
      "id": "Hk624_s0kVXM"
    },
    {
      "cell_type": "markdown",
      "metadata": {
        "id": "at_yb3DSkVXO"
      },
      "source": [
        "## The Environment\n",
        "\n",
        "You can find the environment in the file Chess_env, which contains the class Chess_env. To define an object, you need to provide the board size considered as input. In our example, size_board=4. \n",
        "Chess_env is composed by the following methods:\n",
        "\n",
        "1. Initialise_game. The method initialises an episode by placing the three pieces considered (Agent's king and queen, enemy's king) in the chess board. The outputs of the method are described below in order.\n",
        "\n",
        "     S $\\;$ A matrix representing the board locations filled with 4 numbers: 0, no piece in that position; 1, location of the \n",
        "     agent's king; 2 location of the queen; 3 location of the enemy king.\n",
        "     \n",
        "     X $\\;$ The features, that is the input to the neural network. See the assignment for more information regarding the            definition of the features adopted. To personalise this, go into the Features method of the class Chess_env() and change        accordingly.\n",
        "     \n",
        "     allowed_a $\\;$ The allowed actions that the agent can make. The agent is moving a king, with a total number of 8                possible actions, and a queen, with a total number of $(board_{size}-1)\\times 8$ actions. The total number of possible actions correspond      to the sum of the two, but not all actions are allowed in a given position (movements to locations outside the borders or      against chess rules). Thus, the variable allowed_a is a vector that is one (zero) for an action that the agent can (can't)      make. Be careful, apply the policy considered on the actions that are allowed only.\n",
        "     \n",
        "\n",
        "2. OneStep. The method performs a one step update of the system. Given as input the action selected by the agent, it updates the chess board by performing that action and the response of the enemy king (which is a random allowed action in the settings considered). The first three outputs are the same as for the Initialise_game method, but the variables are computed for the position reached after the update of the system. The fourth and fifth outputs are:\n",
        "\n",
        "     R $\\;$ The reward. To change this, look at the OneStep method of the class where the rewards are set.\n",
        "     \n",
        "     Done $\\;$ A variable that is 1 if the episode has ended (checkmate or draw).\n",
        "     \n",
        "     \n",
        "3. Features. Given the chessboard position, the method computes the features.\n",
        "\n",
        "This information and a quick analysis of the class should be all you need to get going. The other functions that the class exploits are uncommented and constitute an example on how not to write a python code. You can take a look at them if you want, but it is not necessary.\n",
        "\n",
        "\n",
        "\n",
        "\n"
      ],
      "id": "at_yb3DSkVXO"
    },
    {
      "cell_type": "code",
      "execution_count": null,
      "metadata": {
        "id": "RsZ-OpZykVXQ"
      },
      "outputs": [],
      "source": [
        "## INITIALISE THE ENVIRONMENT\n",
        "\n",
        "env=Chess_Env(size_board)"
      ],
      "id": "RsZ-OpZykVXQ"
    },
    {
      "cell_type": "markdown",
      "source": [
        "## Initialization"
      ],
      "metadata": {
        "id": "vdEArdyM-cLe"
      },
      "id": "vdEArdyM-cLe"
    },
    {
      "cell_type": "code",
      "execution_count": 33,
      "metadata": {
        "id": "N41dKnk0kVXU"
      },
      "outputs": [],
      "source": [
        "# INITIALISE THE PARAMETERS OF YOUR NEURAL NETWORK AND...\n",
        "# PLEASE CONSIDER TO USE A MASK OF ONE FOR THE ACTION MADE AND ZERO OTHERWISE IF YOU ARE NOT USING VANILLA GRADIENT DESCENT...\n",
        "# WE SUGGEST A NETWORK WITH ONE HIDDEN LAYER WITH SIZE 200. \n",
        "\n",
        "np.random.seed(12)  ## Set the random seed\n",
        "\n",
        "S,X,allowed_a=env.Initialise_game()\n",
        "\n",
        "N_a=np.shape(allowed_a)[0]   # TOTAL NUMBER OF POSSIBLE ACTIONS\n",
        "\n",
        "N_in=np.shape(X)[0]    ## INPUT SIZE\n",
        "N_h=200                ## NUMBER OF HIDDEN NODES\n",
        "\n",
        "\n",
        "## INITALISE YOUR NEURAL NETWORK...\n",
        "W1 = np.random.randn(N_h, N_in) * np.sqrt(1/N_in)\n",
        "W2 = np.random.randn(N_a, N_h) * np.sqrt(1/N_h)\n",
        "\n",
        "# Initialize the biases\n",
        "bias_W1 = np.zeros((N_h,))\n",
        "bias_W2 = np.zeros((N_a,))\n",
        "\n",
        "# Initialize the target nueral network with the same way\n",
        "W1_tar = np.random.randn(N_h, N_in) * np.sqrt(1 / (N_in))\n",
        "W2_tar = np.random.randn(N_a, N_h) * np.sqrt(1 / (N_h))\n",
        "bias_W1_tar = np.zeros((N_h,))\n",
        "bias_W2_tar = np.zeros((N_a,))\n",
        "\n",
        "\n",
        "# HYPERPARAMETERS SUGGESTED (FOR A GRID SIZE OF 4)\n",
        "\n",
        "epsilon_0 = 0.2     # STARTING VALUE OF EPSILON FOR THE EPSILON-GREEDY POLICY\n",
        "# change beta to 0.0001, the exploration reduced, amost all the choices of action rely on the network\n",
        "beta = 0.0001     # THE PARAMETER SETS HOW QUICKLY THE VALUE OF EPSILON IS DECAYING (SEE epsilon_f BELOW)\n",
        "gamma = 0.85        # THE DISCOUNT FACTOR\n",
        "eta = 0.0035        # THE LEARNING RATE\n",
        "\n",
        "N_episodes = 100000 # THE NUMBER OF GAMES TO BE PLAYED \n",
        "\n",
        "# SAVING VARIABLES\n",
        "R_save_Q = np.zeros([N_episodes, 1])\n",
        "N_moves_save_Q = np.zeros([N_episodes, 1])\n"
      ],
      "id": "N41dKnk0kVXU"
    },
    {
      "cell_type": "code",
      "execution_count": null,
      "metadata": {
        "id": "PIrbi_zMkVXV"
      },
      "outputs": [],
      "source": [
        "#epsilon greedy policy(for greedy policy: epsilon == 1)\n",
        "# Random array to decide whether the choice is greedy or random\n",
        "#rand_array = np.random.rand(N_episodes+10000)\n",
        "\n",
        "def epsilon_greedy(epsilon, allowed_a, x):\n",
        "      a,_=np.where(allowed_a==1)\n",
        "      if epsilon > np.random.uniform(0,1):\n",
        "          a_agent=np.random.permutation(a)[0]  \n",
        "      else:\n",
        "          #select allowed actions\n",
        "          a_a = np.zeros([32, ])\n",
        "          for j in a:\n",
        "              a_a[j] = x[j] # Only keep q values of allowed actions\n",
        "          if a_a.any() == 0:\n",
        "              a_agent=np.random.permutation(a)[0]\n",
        "          else:\n",
        "              a_agent = np.argmax(a_a)\n",
        "      return a_agent\n",
        "\n",
        "# Then epsilon_greedy(0, allowed_a, x, 0) would be the greedy policy"
      ],
      "id": "PIrbi_zMkVXV"
    },
    {
      "cell_type": "markdown",
      "metadata": {
        "id": "28yMyGvJkVXX"
      },
      "source": [
        "## Q-Learning"
      ],
      "id": "28yMyGvJkVXX"
    },
    {
      "cell_type": "code",
      "execution_count": 34,
      "metadata": {
        "colab": {
          "base_uri": "https://localhost:8080/"
        },
        "id": "Ti4vChzfkVXX",
        "outputId": "386c2e5b-88e5-457c-9286-580e13ea63a3"
      },
      "outputs": [
        {
          "output_type": "stream",
          "name": "stderr",
          "text": [
            "100%|██████████| 100000/100000 [13:04<00:00, 127.52it/s]\n"
          ]
        }
      ],
      "source": [
        "for n in tqdm(range(N_episodes)):\n",
        "    \n",
        "    epsilon_f = epsilon_0 / (1 + beta * n)   ## DECAYING EPSILON\n",
        "    Done=0                                   ## SET DONE TO ZERO (BEGINNING OF THE EPISODE)\n",
        "    i = 1                                    ## COUNTER FOR NUMBER OF ACTIONS\n",
        "    \n",
        "    S,X,allowed_a=env.Initialise_game()      ## INITIALISE GAME\n",
        "    \n",
        "    while Done == 0:\n",
        "\n",
        "\n",
        "        #nueral activation: input layer to hidden layer\n",
        "        h1 = np.dot(W1, X) + bias_W1\n",
        "        #relu\n",
        "        x1 = (h1 > 0) * h1\n",
        "        #nueral activation: hidden layer to output layer\n",
        "        h2 = np.dot(W2, x1) + bias_W2\n",
        "        #relu\n",
        "        x2 = (h2 > 0) * h2   ##Q(s, :)\n",
        "        \n",
        "        # Use epsilon-greedy policy to choose an action\n",
        "        #Set index as i+N to make sure each epsilon greedy policy is random\n",
        "        a = epsilon_greedy(epsilon_f, allowed_a, x2)\n",
        "\n",
        "        # Make an action\n",
        "        S_next,X_next,allowed_a_next,R,Done=env.OneStep(a)\n",
        "\n",
        "        # One hot code with action index = 1 as mask\n",
        "        mask = np.zeros((N_a, ))\n",
        "        mask[a] = 1  \n",
        "        \n",
        "        if Done == 1:\n",
        "            Q_bar = x2[a] #predicted Q value ##Q(s, a)\n",
        "            #calculate the error signal\n",
        "            e_n = R - Q_bar\n",
        "            \n",
        "            # Backpropagation: output layer -> hidden layer\n",
        "            g_relu2 = np.array(h2, copy = True)\n",
        "            g_relu2[h2 >0] = 1\n",
        "            g_relu2[h2 <=0] = 0\n",
        "            delta2 = g_relu2 * e_n * mask\n",
        "            \n",
        "            dW2 = np.outer(delta2, x1)\n",
        "            dbias_W2 = delta2\n",
        "            \n",
        "            # Backpropagation: hidden layer -> input layerg_relu2 = np.array(h2, copy = True)\n",
        "            g_relu1 = np.array(h1, copy = True)\n",
        "            g_relu1[h1 >0] = 1\n",
        "            g_relu1[h1 <=0] = 0\n",
        "            delta1 = g_relu1 * np.dot(W2.T, delta2)\n",
        "\n",
        "            dW1 = np.outer(delta1,X)\n",
        "            dbias_W1 = delta1\n",
        "            \n",
        "            W1 += eta * dW1\n",
        "            W2 += eta * dW2\n",
        "            bias_W1 += eta * dbias_W1\n",
        "            bias_W2 += eta * dbias_W2\n",
        "            \n",
        "            R_save_Q[n] = np.copy(R) #saving variables\n",
        "            N_moves_save_Q[n] = np.copy(i)\n",
        "            #print('episoid:',n+1,'; R:',R,'; Number of steps: ',i)\n",
        "            break\n",
        "            \n",
        "        else:\n",
        "            #update step number\n",
        "            i += 1\n",
        "          \n",
        "            # Same neraul activation\n",
        "            h1_tar = np.dot(W1, X_next) + bias_W1\n",
        "            x1_tar = (h1_tar > 0) * h1_tar\n",
        "            h2_tar = np.dot(W2, x1_tar) + bias_W2\n",
        "            x2_tar = (h2_tar > 0) * h2_tar\n",
        "            \n",
        "            #use greedy policy to eatimate action at S'\n",
        "            a2 = epsilon_greedy(-10, allowed_a_next, x2_tar)\n",
        "            \n",
        "            # Compute the error signal\n",
        "            Q_bar = x2[a]\n",
        "            Q_tar = R + gamma * x2_tar[a2] \n",
        "            e_n = Q_tar - Q_bar\n",
        "\n",
        "            # Backpropagation: output layer -> hidden layer\n",
        "            g_relu2 = np.array(h2, copy = True)\n",
        "            g_relu2[h2 >0] = 1\n",
        "            g_relu2[h2 <=0] = 0\n",
        "            delta2 = g_relu2 * e_n * mask\n",
        "            \n",
        "            dW2 = np.outer(delta2, x1)\n",
        "            dbias_W2 = delta2\n",
        "            \n",
        "            # Backpropagation: hidden layer -> input layer\n",
        "            g_relu1 = np.array(h1, copy = True)\n",
        "            g_relu1[h1 >0] = 1\n",
        "            g_relu1[h1 <=0] = 0\n",
        "            delta1 = g_relu1 * np.dot(W2.T, delta2)\n",
        "\n",
        "            dW1 = np.outer(delta1,X)\n",
        "            dbias_W1 = delta1\n",
        "\n",
        "            W1 += eta * dW1\n",
        "            W2 += eta * dW2\n",
        "            bias_W1 += eta * dbias_W1\n",
        "            bias_W2 += eta * dbias_W2\n",
        "            \n",
        "        # Pass state values to the next step\n",
        "        S = np.copy(S_next)\n",
        "        X = np.copy(X_next)\n",
        "        allowed_a = np.copy(allowed_a_next)"
      ],
      "id": "Ti4vChzfkVXX"
    },
    {
      "cell_type": "markdown",
      "source": [
        "The training process need more time compare to the origional one.\n",
        "\n",
        "\n"
      ],
      "metadata": {
        "id": "rC12NuEo5k1S"
      },
      "id": "rC12NuEo5k1S"
    },
    {
      "cell_type": "code",
      "execution_count": 35,
      "metadata": {
        "id": "d-IXJNoxkVXZ",
        "colab": {
          "base_uri": "https://localhost:8080/"
        },
        "outputId": "834e04b7-86b4-4d14-a4ab-6eb8942cb388"
      },
      "outputs": [
        {
          "output_type": "stream",
          "name": "stdout",
          "text": [
            "Q-Learning, Average reward: 0.93661 Number of steps:  3.40993\n"
          ]
        }
      ],
      "source": [
        "print('Q-Learning, Average reward:',np.mean(R_save_Q),'Number of steps: ',np.mean(N_moves_save_Q))"
      ],
      "id": "d-IXJNoxkVXZ"
    },
    {
      "cell_type": "code",
      "source": [
        "def ema(data, alpha):\n",
        "    n = len(data)\n",
        "    ema = np.zeros((n, ))\n",
        "    for i in range(n):\n",
        "      if i == 0:\n",
        "        ema[i] = data[i]\n",
        "      else:\n",
        "        ema[i] = alpha * data[i] + (1 - alpha) * ema[i - 1]\n",
        "    return ema"
      ],
      "metadata": {
        "id": "tr9nuYh8Hn5j"
      },
      "id": "tr9nuYh8Hn5j",
      "execution_count": 36,
      "outputs": []
    },
    {
      "cell_type": "code",
      "source": [
        "#exponential moving average\n",
        "alpha = 100/N_episodes\n",
        "\n",
        "R_EMA_Q = ema(R_save_Q, alpha)\n",
        "steps_EMA_Q = ema(N_moves_save_Q, alpha)"
      ],
      "metadata": {
        "id": "SRwETeu7owQh"
      },
      "id": "SRwETeu7owQh",
      "execution_count": 37,
      "outputs": []
    },
    {
      "cell_type": "code",
      "source": [
        "plt.plot(R_EMA_Q)\n",
        "plt.xlabel('Episodes')\n",
        "plt.ylabel('Reward')\n",
        "plt.title('EMA of Rewards')\n",
        "plt.show()"
      ],
      "metadata": {
        "colab": {
          "base_uri": "https://localhost:8080/",
          "height": 295
        },
        "id": "qbrPhs74PcR-",
        "outputId": "5dd6962c-8d4f-4bdd-c030-6f6baa20900f"
      },
      "id": "qbrPhs74PcR-",
      "execution_count": 38,
      "outputs": [
        {
          "output_type": "display_data",
          "data": {
            "text/plain": [
              "<Figure size 432x288 with 1 Axes>"
            ],
            "image/png": "[encoded data removed]"
          },
          "metadata": {
            "needs_background": "light"
          }
        }
      ]
    },
    {
      "cell_type": "code",
      "source": [
        "plt.plot(steps_EMA_Q[3000:])\n",
        "plt.xlabel('Episodes')\n",
        "plt.ylabel('Steps')\n",
        "plt.title('EMA of Steps')\n",
        "plt.show()"
      ],
      "metadata": {
        "colab": {
          "base_uri": "https://localhost:8080/",
          "height": 295
        },
        "id": "dqjMMWTMQNsM",
        "outputId": "e566d41e-1d5e-4f45-e9e9-4d9ae0c07126"
      },
      "id": "dqjMMWTMQNsM",
      "execution_count": 41,
      "outputs": [
        {
          "output_type": "display_data",
          "data": {
            "text/plain": [
              "<Figure size 432x288 with 1 Axes>"
            ],
            "image/png": "[encoded data removed]"
          },
          "metadata": {
            "needs_background": "light"
          }
        }
      ]
    }
  ],
  "metadata": {
    "kernelspec": {
      "display_name": "Python 3",
      "language": "python",
      "name": "python3"
    },
    "language_info": {
      "codemirror_mode": {
        "name": "ipython",
        "version": 3
      },
      "file_extension": ".py",
      "mimetype": "text/x-python",
      "name": "python",
      "nbconvert_exporter": "python",
      "pygments_lexer": "ipython3",
      "version": "3.8.3"
    },
    "colab": {
      "name": "Assignment_beta.ipynb",
      "provenance": [],
      "collapsed_sections": [],
      "include_colab_link": true
    }
  },
  "nbformat": 4,
  "nbformat_minor": 5
}